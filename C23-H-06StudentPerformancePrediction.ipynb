{
  "metadata": {
    "kernelspec": {
      "language": "python",
      "display_name": "Python 3",
      "name": "python3"
    },
    "language_info": {
      "name": "python",
      "version": "3.10.12",
      "mimetype": "text/x-python",
      "codemirror_mode": {
        "name": "ipython",
        "version": 3
      },
      "pygments_lexer": "ipython3",
      "nbconvert_exporter": "python",
      "file_extension": ".py"
    },
    "kaggle": {
      "accelerator": "none",
      "dataSources": [
        {
          "sourceId": 1510844,
          "sourceType": "datasetVersion",
          "datasetId": 890143
        }
      ],
      "dockerImageVersionId": 30839,
      "isInternetEnabled": false,
      "language": "python",
      "sourceType": "notebook",
      "isGpuEnabled": false
    },
    "colab": {
      "name": "UCI Math Student Performance - Processing ",
      "provenance": []
    }
  },
  "nbformat_minor": 0,
  "nbformat": 4,
  "cells": [
    {
      "source": [
        "# IMPORTANT: RUN THIS CELL IN ORDER TO IMPORT YOUR KAGGLE DATA SOURCES,\n",
        "# THEN FEEL FREE TO DELETE THIS CELL.\n",
        "# NOTE: THIS NOTEBOOK ENVIRONMENT DIFFERS FROM KAGGLE'S PYTHON\n",
        "# ENVIRONMENT SO THERE MAY BE MISSING LIBRARIES USED BY YOUR\n",
        "# NOTEBOOK.\n",
        "import kagglehub\n",
        "dskagglemt_student_performance_data_set_path = kagglehub.dataset_download('dskagglemt/student-performance-data-set')\n",
        "\n",
        "print('Data source import complete.')\n"
      ],
      "metadata": {
        "id": "GpTwPOlbETHB"
      },
      "cell_type": "code",
      "outputs": [],
      "execution_count": null
    },
    {
      "cell_type": "code",
      "source": [
        "import numpy as np\n",
        "import pandas as pd\n",
        "import matplotlib.pyplot as plt\n",
        "import seaborn as sns\n",
        "from sklearn.datasets import make_classification\n",
        "from collections import Counter\n",
        "from sklearn.preprocessing import MinMaxScaler"
      ],
      "metadata": {
        "_uuid": "8f2839f25d086af736a60e9eeb907d3b93b6e0e5",
        "_cell_guid": "b1076dfc-b9ad-4769-8c92-a6c4dae69d19",
        "trusted": true,
        "execution": {
          "iopub.status.busy": "2025-01-31T13:11:48.559715Z",
          "iopub.execute_input": "2025-01-31T13:11:48.560055Z",
          "iopub.status.idle": "2025-01-31T13:11:48.875329Z",
          "shell.execute_reply.started": "2025-01-31T13:11:48.560029Z",
          "shell.execute_reply": "2025-01-31T13:11:48.874479Z"
        },
        "id": "1Pj-95PGETHE"
      },
      "outputs": [],
      "execution_count": null
    },
    {
      "cell_type": "code",
      "source": [
        "raw_data = pd.read_csv(\"/kaggle/input/student-performance-data-set/student-mat.csv\", delimiter=';')"
      ],
      "metadata": {
        "trusted": true,
        "execution": {
          "iopub.status.busy": "2025-01-31T13:21:52.780397Z",
          "iopub.execute_input": "2025-01-31T13:21:52.78081Z",
          "iopub.status.idle": "2025-01-31T13:21:52.792799Z",
          "shell.execute_reply.started": "2025-01-31T13:21:52.780779Z",
          "shell.execute_reply": "2025-01-31T13:21:52.791652Z"
        },
        "id": "jf3QB8W0ETHF"
      },
      "outputs": [],
      "execution_count": null
    },
    {
      "cell_type": "code",
      "source": [
        "raw_data.info()"
      ],
      "metadata": {
        "trusted": true,
        "execution": {
          "iopub.status.busy": "2025-01-31T13:22:02.925211Z",
          "iopub.execute_input": "2025-01-31T13:22:02.925677Z",
          "iopub.status.idle": "2025-01-31T13:22:02.939205Z",
          "shell.execute_reply.started": "2025-01-31T13:22:02.925644Z",
          "shell.execute_reply": "2025-01-31T13:22:02.937974Z"
        },
        "id": "bhBj1UB5ETHF"
      },
      "outputs": [],
      "execution_count": null
    },
    {
      "cell_type": "code",
      "source": [
        "raw_data.head()"
      ],
      "metadata": {
        "trusted": true,
        "execution": {
          "iopub.status.busy": "2025-01-31T13:13:53.721328Z",
          "iopub.execute_input": "2025-01-31T13:13:53.721729Z",
          "iopub.status.idle": "2025-01-31T13:13:53.7314Z",
          "shell.execute_reply.started": "2025-01-31T13:13:53.721692Z",
          "shell.execute_reply": "2025-01-31T13:13:53.730134Z"
        },
        "id": "9XazC4hcETHG"
      },
      "outputs": [],
      "execution_count": null
    },
    {
      "cell_type": "code",
      "source": [
        "print(raw_data.columns)"
      ],
      "metadata": {
        "trusted": true,
        "execution": {
          "iopub.status.busy": "2025-01-31T13:22:03.69179Z",
          "iopub.execute_input": "2025-01-31T13:22:03.692159Z",
          "iopub.status.idle": "2025-01-31T13:22:03.698072Z",
          "shell.execute_reply.started": "2025-01-31T13:22:03.69213Z",
          "shell.execute_reply": "2025-01-31T13:22:03.696581Z"
        },
        "id": "2NwUxOsmETHG"
      },
      "outputs": [],
      "execution_count": null
    },
    {
      "cell_type": "markdown",
      "source": [],
      "metadata": {
        "id": "WPqn4R6EETHG"
      }
    },
    {
      "cell_type": "code",
      "source": [
        "fig, axes = plt.subplots(1, 3, figsize=(18, 6))\n",
        "sns.histplot(raw_data['G1'], kde=True, bins=20, color='skyblue', ax=axes[0])\n",
        "axes[0].set_title('Distribution of G1 Grades (0 to 20)')\n",
        "axes[0].set_xlabel('Grade G1')\n",
        "axes[0].set_ylabel('Frequency')\n",
        "\n",
        "sns.histplot(raw_data['G2'], kde=True, bins=20, color='lightgreen', ax=axes[1])\n",
        "axes[1].set_title('Distribution of G2 Grades (0 to 20)')\n",
        "axes[1].set_xlabel('Grade G2')\n",
        "axes[1].set_ylabel('Frequency')\n",
        "\n",
        "sns.histplot(raw_data['G3'], kde=True, bins=20, color='lightcoral', ax=axes[2])\n",
        "axes[2].set_title('Distribution of G3 Grades (0 to 20)')\n",
        "axes[2].set_xlabel('Grade G3')\n",
        "axes[2].set_ylabel('Frequency')\n",
        "\n",
        "plt.tight_layout()\n",
        "plt.show()"
      ],
      "metadata": {
        "trusted": true,
        "execution": {
          "iopub.status.busy": "2025-01-31T13:22:25.733576Z",
          "iopub.execute_input": "2025-01-31T13:22:25.733915Z",
          "iopub.status.idle": "2025-01-31T13:22:26.64392Z",
          "shell.execute_reply.started": "2025-01-31T13:22:25.733889Z",
          "shell.execute_reply": "2025-01-31T13:22:26.642818Z"
        },
        "id": "Qcetr9TPETHH"
      },
      "outputs": [],
      "execution_count": null
    },
    {
      "cell_type": "code",
      "source": [
        "pd.set_option(\"display.max_columns\",35)"
      ],
      "metadata": {
        "trusted": true,
        "execution": {
          "iopub.status.busy": "2025-01-31T13:22:44.318264Z",
          "iopub.execute_input": "2025-01-31T13:22:44.318641Z",
          "iopub.status.idle": "2025-01-31T13:22:44.323417Z",
          "shell.execute_reply.started": "2025-01-31T13:22:44.318615Z",
          "shell.execute_reply": "2025-01-31T13:22:44.32216Z"
        },
        "id": "UaWjwRmkETHH"
      },
      "outputs": [],
      "execution_count": null
    },
    {
      "cell_type": "code",
      "source": [
        "raw_data.head()"
      ],
      "metadata": {
        "trusted": true,
        "execution": {
          "iopub.status.busy": "2025-01-31T13:22:55.118643Z",
          "iopub.execute_input": "2025-01-31T13:22:55.119013Z",
          "iopub.status.idle": "2025-01-31T13:22:55.1456Z",
          "shell.execute_reply.started": "2025-01-31T13:22:55.118985Z",
          "shell.execute_reply": "2025-01-31T13:22:55.144292Z"
        },
        "id": "WIQ8zch3ETHI"
      },
      "outputs": [],
      "execution_count": null
    },
    {
      "cell_type": "code",
      "source": [
        "duplicates = raw_data.duplicated()\n",
        "raw_data[duplicates].sum()"
      ],
      "metadata": {
        "trusted": true,
        "execution": {
          "iopub.status.busy": "2025-01-31T13:23:02.564223Z",
          "iopub.execute_input": "2025-01-31T13:23:02.564596Z",
          "iopub.status.idle": "2025-01-31T13:23:02.580032Z",
          "shell.execute_reply.started": "2025-01-31T13:23:02.56457Z",
          "shell.execute_reply": "2025-01-31T13:23:02.578534Z"
        },
        "id": "8qDoe6IzETHI"
      },
      "outputs": [],
      "execution_count": null
    },
    {
      "cell_type": "code",
      "source": [
        "missing_data = raw_data.isnull()\n",
        "plt.figure(figsize=(12, 6))\n",
        "sns.heatmap(missing_data, cbar=False, cmap='viridis', yticklabels=False, xticklabels=raw_data.columns)\n",
        "plt.title('Heatmap of Missing Data')\n",
        "plt.xlabel('Columns')\n",
        "plt.ylabel('Rows')\n",
        "plt.show()"
      ],
      "metadata": {
        "trusted": true,
        "execution": {
          "iopub.status.busy": "2025-01-31T13:23:30.673232Z",
          "iopub.execute_input": "2025-01-31T13:23:30.673683Z",
          "iopub.status.idle": "2025-01-31T13:23:30.994784Z",
          "shell.execute_reply.started": "2025-01-31T13:23:30.673651Z",
          "shell.execute_reply": "2025-01-31T13:23:30.993563Z"
        },
        "id": "ReMve_ZIETHI"
      },
      "outputs": [],
      "execution_count": null
    },
    {
      "cell_type": "code",
      "source": [
        "raw_data.drop(['school','address','age','sex'], axis=1, inplace=True)"
      ],
      "metadata": {
        "trusted": true,
        "execution": {
          "iopub.status.busy": "2025-01-31T13:23:57.344309Z",
          "iopub.execute_input": "2025-01-31T13:23:57.344692Z",
          "iopub.status.idle": "2025-01-31T13:23:57.352995Z",
          "shell.execute_reply.started": "2025-01-31T13:23:57.344664Z",
          "shell.execute_reply": "2025-01-31T13:23:57.35161Z"
        },
        "id": "JXLuOtUGETHI"
      },
      "outputs": [],
      "execution_count": null
    },
    {
      "cell_type": "code",
      "source": [
        "binary_cols = ['famsize','Pstatus', 'famsup', 'paid', 'activities','nursery', 'higher', 'internet', 'romantic','schoolsup', 'Fjob','guardian','reason','Mjob']"
      ],
      "metadata": {
        "trusted": true,
        "execution": {
          "iopub.status.busy": "2025-01-31T13:24:04.258504Z",
          "iopub.execute_input": "2025-01-31T13:24:04.258848Z",
          "iopub.status.idle": "2025-01-31T13:24:04.263644Z",
          "shell.execute_reply.started": "2025-01-31T13:24:04.258821Z",
          "shell.execute_reply": "2025-01-31T13:24:04.262482Z"
        },
        "id": "xDGqM7gMETHI"
      },
      "outputs": [],
      "execution_count": null
    },
    {
      "cell_type": "code",
      "source": [
        "binary_map = {'yes': 1, 'no': 0,'GT3':1,'LE3':0,'A':1,'T':0,'father':1,'mother':0, 'other':3,\n",
        "              'course': 0 ,'home':1,'reputation':2, 'at_home':0, 'health':1, 'services':2,'teacher':4}\n",
        "for col in binary_cols:\n",
        "    if set(raw_data[col].unique()).issubset(binary_map.keys()):\n",
        "        raw_data[col] = raw_data[col].map(binary_map)"
      ],
      "metadata": {
        "trusted": true,
        "execution": {
          "iopub.status.busy": "2025-01-31T13:24:11.816063Z",
          "iopub.execute_input": "2025-01-31T13:24:11.816492Z",
          "iopub.status.idle": "2025-01-31T13:24:11.836081Z",
          "shell.execute_reply.started": "2025-01-31T13:24:11.816423Z",
          "shell.execute_reply": "2025-01-31T13:24:11.834909Z"
        },
        "id": "EBRLGcf2ETHI"
      },
      "outputs": [],
      "execution_count": null
    },
    {
      "cell_type": "code",
      "source": [
        "raw_data['Fjob'].unique(), raw_data['Mjob'].unique()"
      ],
      "metadata": {
        "trusted": true,
        "execution": {
          "iopub.status.busy": "2025-01-31T13:24:19.51439Z",
          "iopub.execute_input": "2025-01-31T13:24:19.514749Z",
          "iopub.status.idle": "2025-01-31T13:24:19.523765Z",
          "shell.execute_reply.started": "2025-01-31T13:24:19.514723Z",
          "shell.execute_reply": "2025-01-31T13:24:19.522601Z"
        },
        "id": "Nz3mPvCVETHJ"
      },
      "outputs": [],
      "execution_count": null
    },
    {
      "cell_type": "code",
      "source": [
        "raw_data['guardian'].unique()"
      ],
      "metadata": {
        "trusted": true,
        "execution": {
          "iopub.status.busy": "2025-01-31T13:24:41.6025Z",
          "iopub.execute_input": "2025-01-31T13:24:41.60287Z",
          "iopub.status.idle": "2025-01-31T13:24:41.610359Z",
          "shell.execute_reply.started": "2025-01-31T13:24:41.602842Z",
          "shell.execute_reply": "2025-01-31T13:24:41.608613Z"
        },
        "id": "QtXiwN7PETHJ"
      },
      "outputs": [],
      "execution_count": null
    },
    {
      "cell_type": "code",
      "source": [
        "raw_data['Mjob'].unique()"
      ],
      "metadata": {
        "trusted": true,
        "execution": {
          "iopub.status.busy": "2025-01-31T13:24:43.066849Z",
          "iopub.execute_input": "2025-01-31T13:24:43.067189Z",
          "iopub.status.idle": "2025-01-31T13:24:43.07361Z",
          "shell.execute_reply.started": "2025-01-31T13:24:43.067164Z",
          "shell.execute_reply": "2025-01-31T13:24:43.072552Z"
        },
        "id": "bREM-ZyVETHJ"
      },
      "outputs": [],
      "execution_count": null
    },
    {
      "cell_type": "code",
      "source": [
        "raw_data['reason'].unique()"
      ],
      "metadata": {
        "trusted": true,
        "execution": {
          "iopub.status.busy": "2025-01-31T13:24:44.371303Z",
          "iopub.execute_input": "2025-01-31T13:24:44.371715Z",
          "iopub.status.idle": "2025-01-31T13:24:44.379224Z",
          "shell.execute_reply.started": "2025-01-31T13:24:44.371684Z",
          "shell.execute_reply": "2025-01-31T13:24:44.377762Z"
        },
        "id": "NFeIzpuzETHJ"
      },
      "outputs": [],
      "execution_count": null
    },
    {
      "cell_type": "code",
      "source": [
        "raw_data.head()"
      ],
      "metadata": {
        "trusted": true,
        "execution": {
          "iopub.status.busy": "2025-01-31T13:24:45.434003Z",
          "iopub.execute_input": "2025-01-31T13:24:45.434363Z",
          "iopub.status.idle": "2025-01-31T13:24:45.452466Z",
          "shell.execute_reply.started": "2025-01-31T13:24:45.434334Z",
          "shell.execute_reply": "2025-01-31T13:24:45.451349Z"
        },
        "id": "LzuMFBT4ETHJ"
      },
      "outputs": [],
      "execution_count": null
    },
    {
      "cell_type": "code",
      "source": [
        "means = raw_data.mean()\n",
        "std_devs = raw_data.std()\n",
        "z_scores = (raw_data - means) / std_devs\n",
        "threshold = 4\n",
        "\n",
        "outliers = raw_data[(z_scores.abs() > threshold).any(axis=1)]\n",
        "\n",
        "print(f\"Number of outliers: {len(outliers)}\")\n",
        "if not outliers.empty:\n",
        "    print(\"\\nIndices of outliers:\")\n",
        "    print(outliers.index.tolist())\n",
        "    print(\"\\nSample of outliers:\")\n",
        "    print(outliers.head())\n",
        "else:\n",
        "    print(\"No outliers detected.\")"
      ],
      "metadata": {
        "trusted": true,
        "execution": {
          "iopub.status.busy": "2025-01-31T13:24:57.932078Z",
          "iopub.execute_input": "2025-01-31T13:24:57.932606Z",
          "iopub.status.idle": "2025-01-31T13:24:57.958842Z",
          "shell.execute_reply.started": "2025-01-31T13:24:57.932565Z",
          "shell.execute_reply": "2025-01-31T13:24:57.957002Z"
        },
        "id": "kaJcD3VEETHJ"
      },
      "outputs": [],
      "execution_count": null
    },
    {
      "cell_type": "code",
      "source": [
        "features = raw_data.drop(columns='G3')\n",
        "scaler = MinMaxScaler()\n",
        "\n",
        "normalized_features = scaler.fit_transform(features)\n",
        "ready_data = pd.DataFrame(normalized_features, columns=features.columns)\n",
        "ready_data['G3'] = raw_data['G3']"
      ],
      "metadata": {
        "trusted": true,
        "execution": {
          "iopub.status.busy": "2025-01-31T13:25:08.087926Z",
          "iopub.execute_input": "2025-01-31T13:25:08.088261Z",
          "iopub.status.idle": "2025-01-31T13:25:08.102771Z",
          "shell.execute_reply.started": "2025-01-31T13:25:08.088236Z",
          "shell.execute_reply": "2025-01-31T13:25:08.101468Z"
        },
        "id": "8K6zz3pTETHJ"
      },
      "outputs": [],
      "execution_count": null
    },
    {
      "cell_type": "code",
      "source": [
        "ready_data.head()"
      ],
      "metadata": {
        "trusted": true,
        "execution": {
          "iopub.status.busy": "2025-01-31T13:25:15.380085Z",
          "iopub.execute_input": "2025-01-31T13:25:15.38049Z",
          "iopub.status.idle": "2025-01-31T13:25:15.414294Z",
          "shell.execute_reply.started": "2025-01-31T13:25:15.380424Z",
          "shell.execute_reply": "2025-01-31T13:25:15.413266Z"
        },
        "id": "NhO4zBhcETHJ"
      },
      "outputs": [],
      "execution_count": null
    },
    {
      "cell_type": "markdown",
      "source": [
        "# The dataset is ready to use!"
      ],
      "metadata": {
        "id": "dma2IJQfETHJ"
      }
    }
  ]
}