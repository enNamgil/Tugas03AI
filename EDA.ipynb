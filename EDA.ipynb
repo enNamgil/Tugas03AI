{
  "metadata": {
    "kernelspec": {
      "language": "python",
      "display_name": "Python 3",
      "name": "python3"
    },
    "language_info": {
      "pygments_lexer": "ipython3",
      "nbconvert_exporter": "python",
      "version": "3.6.4",
      "file_extension": ".py",
      "codemirror_mode": {
        "name": "ipython",
        "version": 3
      },
      "name": "python",
      "mimetype": "text/x-python"
    },
    "colab": {
      "provenance": []
    }
  },
  "nbformat_minor": 0,
  "nbformat": 4,
  "cells": [
    {
      "source": [
        "# IMPORTANT: RUN THIS CELL IN ORDER TO IMPORT YOUR KAGGLE DATA SOURCES,\n",
        "# THEN FEEL FREE TO DELETE THIS CELL.\n",
        "# NOTE: THIS NOTEBOOK ENVIRONMENT DIFFERS FROM KAGGLE'S PYTHON\n",
        "# ENVIRONMENT SO THERE MAY BE MISSING LIBRARIES USED BY YOUR\n",
        "# NOTEBOOK.\n",
        "import kagglehub\n",
        "dskagglemt_student_performance_data_set_path = kagglehub.dataset_download('dskagglemt/student-performance-data-set')\n",
        "\n",
        "print('Data source import complete.')\n"
      ],
      "metadata": {
        "id": "5MG_kvXnEvMG"
      },
      "cell_type": "code",
      "outputs": [],
      "execution_count": null
    },
    {
      "cell_type": "code",
      "source": [
        "import sklearn\n",
        "from sklearn import datasets\n",
        "import numpy as np\n",
        "from sklearn.preprocessing import scale\n",
        "from sklearn.cluster import KMeans\n",
        "from sklearn import metrics"
      ],
      "metadata": {
        "_uuid": "8f2839f25d086af736a60e9eeb907d3b93b6e0e5",
        "_cell_guid": "b1076dfc-b9ad-4769-8c92-a6c4dae69d19",
        "execution": {
          "iopub.status.busy": "2021-11-12T18:35:01.682646Z",
          "iopub.execute_input": "2021-11-12T18:35:01.682948Z",
          "iopub.status.idle": "2021-11-12T18:35:01.688338Z",
          "shell.execute_reply.started": "2021-11-12T18:35:01.682909Z",
          "shell.execute_reply": "2021-11-12T18:35:01.687454Z"
        },
        "trusted": true,
        "id": "_1j_DhWhEvMJ"
      },
      "execution_count": null,
      "outputs": []
    },
    {
      "cell_type": "code",
      "source": [
        "# def bench_k_means(estimator, name, data):\n",
        "#     estimator.fit(data)\n",
        "#     print('%-9s\\t%i\\t%.3f\\t%.3f\\t%.3f\\t%.3f\\t%.3f\\t%.3f'\n",
        "#              %(name, estimator.inertia_,\n",
        "#               metrics.homogeneity_score(y, estimator.labels_),\n",
        "#               metrics.completeness_score(y, estimator.labels_),\n",
        "#               metrics.v_mesure_score(y, estimator.labels_),\n",
        "#               metrics.ajusted_rand_score(y, estimator.labels_),\n",
        "#               metrics.ajusted_mutual_info_score(y, estimator.labels_),\n",
        "#               metrics.silhouette_score(data, estimator.labels_, metric='euclidean')))"
      ],
      "metadata": {
        "execution": {
          "iopub.status.busy": "2021-11-12T18:35:01.68998Z",
          "iopub.execute_input": "2021-11-12T18:35:01.690738Z",
          "iopub.status.idle": "2021-11-12T18:35:01.700483Z",
          "shell.execute_reply.started": "2021-11-12T18:35:01.6907Z",
          "shell.execute_reply": "2021-11-12T18:35:01.699879Z"
        },
        "trusted": true,
        "id": "bedbp4BbEvMK"
      },
      "execution_count": null,
      "outputs": []
    },
    {
      "cell_type": "code",
      "source": [
        "def bench_k_means(estimator, name, data):\n",
        "    estimator.fit(data)\n",
        "    print('%-9s\\t%i\\t%.3f\\t%.3f\\t%.3f\\t%.3f\\t%.3f\\t%.3f'\n",
        "          % (name, estimator.inertia_,\n",
        "             metrics.homogeneity_score(y, estimator.labels_),\n",
        "             metrics.completeness_score(y, estimator.labels_),\n",
        "             metrics.v_measure_score(y, estimator.labels_),\n",
        "             metrics.adjusted_rand_score(y, estimator.labels_),\n",
        "             metrics.adjusted_mutual_info_score(y,  estimator.labels_),\n",
        "             metrics.silhouette_score(data, estimator.labels_,\n",
        "                                      metric='euclidean')))"
      ],
      "metadata": {
        "execution": {
          "iopub.status.busy": "2021-11-12T18:35:01.701539Z",
          "iopub.execute_input": "2021-11-12T18:35:01.701904Z",
          "iopub.status.idle": "2021-11-12T18:35:01.71586Z",
          "shell.execute_reply.started": "2021-11-12T18:35:01.701867Z",
          "shell.execute_reply": "2021-11-12T18:35:01.715265Z"
        },
        "trusted": true,
        "id": "9aNyDKxxEvMK"
      },
      "execution_count": null,
      "outputs": []
    },
    {
      "cell_type": "code",
      "source": [
        "digits = datasets.load_digits()\n",
        "data = scale(digits.data)"
      ],
      "metadata": {
        "execution": {
          "iopub.status.busy": "2021-11-12T18:35:01.716915Z",
          "iopub.execute_input": "2021-11-12T18:35:01.717236Z",
          "iopub.status.idle": "2021-11-12T18:35:01.829341Z",
          "shell.execute_reply.started": "2021-11-12T18:35:01.717209Z",
          "shell.execute_reply": "2021-11-12T18:35:01.82849Z"
        },
        "trusted": true,
        "id": "DJD-U6XAEvML"
      },
      "execution_count": null,
      "outputs": []
    },
    {
      "cell_type": "code",
      "source": [
        "y = digits.target\n",
        "k = len(np.unique(y)) # k = 10"
      ],
      "metadata": {
        "execution": {
          "iopub.status.busy": "2021-11-12T18:35:01.831144Z",
          "iopub.execute_input": "2021-11-12T18:35:01.831387Z",
          "iopub.status.idle": "2021-11-12T18:35:01.834997Z",
          "shell.execute_reply.started": "2021-11-12T18:35:01.831358Z",
          "shell.execute_reply": "2021-11-12T18:35:01.834474Z"
        },
        "trusted": true,
        "id": "Koek8kTkEvML"
      },
      "execution_count": null,
      "outputs": []
    },
    {
      "cell_type": "code",
      "source": [
        "sample, features = data.shape"
      ],
      "metadata": {
        "execution": {
          "iopub.status.busy": "2021-11-12T18:35:01.835811Z",
          "iopub.execute_input": "2021-11-12T18:35:01.836538Z",
          "iopub.status.idle": "2021-11-12T18:35:01.851568Z",
          "shell.execute_reply.started": "2021-11-12T18:35:01.836487Z",
          "shell.execute_reply": "2021-11-12T18:35:01.850599Z"
        },
        "trusted": true,
        "id": "mWEgksN_EvML"
      },
      "execution_count": null,
      "outputs": []
    },
    {
      "cell_type": "code",
      "source": [
        "clf = KMeans(n_clusters=k, init='random', n_init=10)\n",
        "bench_k_means(clf, \"1\", data)"
      ],
      "metadata": {
        "execution": {
          "iopub.status.busy": "2021-11-12T18:35:01.852767Z",
          "iopub.execute_input": "2021-11-12T18:35:01.853031Z",
          "iopub.status.idle": "2021-11-12T18:35:02.188905Z",
          "shell.execute_reply.started": "2021-11-12T18:35:01.852999Z",
          "shell.execute_reply": "2021-11-12T18:35:02.188182Z"
        },
        "trusted": true,
        "id": "iR3tXFEyEvML"
      },
      "execution_count": null,
      "outputs": []
    }
  ]
}